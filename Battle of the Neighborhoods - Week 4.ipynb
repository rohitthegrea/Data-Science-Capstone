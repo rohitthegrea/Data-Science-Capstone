{
    "cells": [
        {
            "metadata": {
                "collapsed": true
            },
            "cell_type": "markdown",
            "source": "# The Battle of the Neighborhoods."
        },
        {
            "metadata": {},
            "cell_type": "markdown",
            "source": "## Introduction"
        },
        {
            "metadata": {},
            "cell_type": "markdown",
            "source": "Obesity is a medical condition excess body fat has accumulated to an extent that may have a negative effect on health. Obesity is quite widespread. In the US, about 35% of the population (which is approximately 82 million) are obese. Obesity often adds to various diseases and conditions - often for life. Obesity is one of the leading preventable causes of death worldwide. It is linked to various cardiovascular diseases, Type 2 Diabetes, few types of cancer, high blood pressure, apnea etc. The World Health Organization (WHO) predicts that overweight and obesity may soon replace more traditional public health concerns such as undernutrition and infectious diseases as the most significant cause of poor health. Obesity also has taken a toll on healty care costs across the country\u2014estimated between 187 billion dollars and 265 billion dollars in direct and indirect health care costs, as of 2019.\n\nThe main treatment for obesity consists of weight loss via calorie restricted dieting. However, dieting over a long period of time is quite hard. Thus physical exercise is equally important. As someone who used to be overweight, I have decided to focus on reducing this issue by facilitating construction of gyms and/or yoga classes. "
        },
        {
            "metadata": {},
            "cell_type": "markdown",
            "source": "## The Problem"
        },
        {
            "metadata": {},
            "cell_type": "markdown",
            "source": "I'll be choosing the city of Chicago, Illinois. Chicago is home to more than 2.6 million residents. Obesity is a major problem in Chicago, where 36.2% of the city's high school students and 61.2% of adults in the metropolitan area are overweight or obese. That is among the highest in the entire country! The aim of this project is to successfully locate suitable locations to construct Gym and/or yoga classes in Chicago. They should be in a place having no access to gym/yoga classes but having a considerable population."
        },
        {
            "metadata": {},
            "cell_type": "markdown",
            "source": "## Target Audience"
        },
        {
            "metadata": {},
            "cell_type": "markdown",
            "source": "This project will be very useful for entrepreneurs, health officials and NGO's who are interested in having an insight of the various neighborhoods in order to build a gym/yoga classes."
        },
        {
            "metadata": {},
            "cell_type": "markdown",
            "source": "## Data Description"
        },
        {
            "metadata": {},
            "cell_type": "markdown",
            "source": "For this project, the following datasets are required:-\n1) ***Chicago Neighborhood Data*** - From https://en.wikipedia.org/wiki/List_of_neighborhoods_in_Chicago. It contains all the Chicago Neighborhoods by their community areas. I will be scraping the neighborhoods table using  beautifulsoup libraty.\n\n2) ***Neighborhood Location data*** - Using ***Geocoders package*** to retrieve latitude and longitude data of each neighborhoods.\n\n3) ***Neighborhood Venues data*** - Using ***Foursquare API***, we can gather a list of venues for each neighbourhood within radius of 500 meters.\n"
        },
        {
            "metadata": {},
            "cell_type": "markdown",
            "source": "Other Important Libraries:-\n\n1) ***Pandas*** - For working with a dataframe of neighborhoods, latitudes and longitudes, venues etc\n\n2) ***JSON*** - The wikipedia link provided is programmed using JSON language. We require this library to parse it's contents.\n\n3) ***Folium*** - Visualization library in python for visualizing clusters of neighborhoods.\n\n4) ***Scikit*** - For using K-means clustering approach algorithm."
        },
        {
            "metadata": {},
            "cell_type": "markdown",
            "source": "## Approach"
        },
        {
            "metadata": {},
            "cell_type": "markdown",
            "source": "1) I will scrape neighborhood data from the wikipedia page using beautifulsoup library.\n\n2) Location data containing latitudes and longitudes of each neighborhood will be obtained from geocoders package. \n\n3) Using Foursquare API, I will get a list of venues around each neighborhood within a radius of 500 meters.\n\n4) From this data, we can identify neighborhoods containing \"Gyms\" and \"Yoga classes\".\n\n5) Neighborhoods will then be clustered in various clusters depending upon their similarity. I will then run k-means algorithm.\n\n6) I will then plot all the clusters on a map using folium library.\n\n7) Final analysis of each clusters and from that I will determine the best place to open a new gym/yoga class (hopefully!)."
        }
    ],
    "metadata": {
        "kernelspec": {
            "name": "python3",
            "display_name": "Python 3.7",
            "language": "python"
        },
        "language_info": {
            "name": "python",
            "version": "3.7.9",
            "mimetype": "text/x-python",
            "codemirror_mode": {
                "name": "ipython",
                "version": 3
            },
            "pygments_lexer": "ipython3",
            "nbconvert_exporter": "python",
            "file_extension": ".py"
        }
    },
    "nbformat": 4,
    "nbformat_minor": 1
}